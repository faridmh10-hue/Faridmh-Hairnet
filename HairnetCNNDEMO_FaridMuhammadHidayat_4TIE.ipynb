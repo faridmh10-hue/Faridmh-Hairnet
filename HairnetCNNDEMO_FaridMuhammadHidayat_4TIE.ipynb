{
  "nbformat": 4,
  "nbformat_minor": 0,
  "metadata": {
    "colab": {
      "provenance": []
    },
    "kernelspec": {
      "name": "python3",
      "display_name": "Python 3"
    },
    "language_info": {
      "name": "python"
    }
  },
  "cells": [
    {
      "cell_type": "code",
      "execution_count": 7,
      "metadata": {
        "colab": {
          "base_uri": "https://localhost:8080/",
          "height": 643
        },
        "id": "qeNwd43wBkUO",
        "outputId": "7bdae380-ed37-42fa-a99b-b6d007bc8f60"
      },
      "outputs": [
        {
          "output_type": "stream",
          "name": "stdout",
          "text": [
            "Drive already mounted at /content/drive; to attempt to forcibly remount, call drive.mount(\"/content/drive\", force_remount=True).\n"
          ]
        },
        {
          "output_type": "stream",
          "name": "stderr",
          "text": [
            "WARNING:absl:Compiled the loaded model, but the compiled metrics have yet to be built. `model.compile_metrics` will be empty until you train or evaluate the model.\n"
          ]
        },
        {
          "output_type": "stream",
          "name": "stdout",
          "text": [
            "Model berhasil dimuat dari Google Drive.\n",
            "Colab notebook detected. To show errors in colab notebook, set debug=True in launch()\n",
            "* Running on public URL: https://0323b9ab5b2df920e2.gradio.live\n",
            "\n",
            "This share link expires in 1 week. For free permanent hosting and GPU upgrades, run `gradio deploy` from the terminal in the working directory to deploy to Hugging Face Spaces (https://huggingface.co/spaces)\n"
          ]
        },
        {
          "output_type": "display_data",
          "data": {
            "text/plain": [
              "<IPython.core.display.HTML object>"
            ],
            "text/html": [
              "<div><iframe src=\"https://0323b9ab5b2df920e2.gradio.live\" width=\"100%\" height=\"500\" allow=\"autoplay; camera; microphone; clipboard-read; clipboard-write;\" frameborder=\"0\" allowfullscreen></iframe></div>"
            ]
          },
          "metadata": {}
        }
      ],
      "source": [
        "import gradio as gr\n",
        "import numpy as np\n",
        "from PIL import Image\n",
        "from tensorflow.keras.models import load_model\n",
        "import os\n",
        "\n",
        "# --- Persiapan Lingkungan Google Colab ---\n",
        "from google.colab import drive\n",
        "drive.mount('/content/drive')\n",
        "\n",
        "# --- PERBAIKAN: Sesuaikan image_size dan class_labels sesuai model yang dilatih ---\n",
        "# Tentukan path ke model Anda di Google Drive\n",
        "# Anda HARUS MENGGANTI path ini dengan lokasi model Anda yang sebenarnya di Google Drive.\n",
        "# Contoh: '/content/drive/My Drive/FolderModelSaya/model_rambut_terlatih.h5'\n",
        "model_save_path = '/content/drive/MyDrive/hair_type_classifier_model.h5' # <--- GANTI PATH INI SESUAI LOKASI MODEL ANDA\n",
        "\n",
        "# Sesuaikan dengan ukuran input model yang Anda latih (dari notebook, ini adalah 150x150)\n",
        "image_size = (150, 150) #\n",
        "\n",
        "# Sesuaikan dengan label kelas dan URUTANNYA dari train_generator.class_indices di notebook Anda\n",
        "# Class Indices: {'Straight': 0, 'Wavy': 1, 'curly': 2, 'dreadlocks': 3, 'kinky': 4}\n",
        "class_labels = ['Straight', 'Wavy', 'curly', 'dreadlocks', 'kinky'] #\n",
        "\n",
        "\n",
        "# --- Memuat model yang telah disimpan ---\n",
        "loaded_model = None\n",
        "try:\n",
        "    if os.path.exists(model_save_path):\n",
        "        loaded_model = load_model(model_save_path)\n",
        "        print(\"Model berhasil dimuat dari Google Drive.\")\n",
        "    else:\n",
        "        print(f\"Error: File model tidak ditemukan di {model_save_path}. Pastikan path benar dan model sudah diunggah ke Google Drive.\")\n",
        "except Exception as e:\n",
        "    print(f\"Gagal memuat model: {e}. Pastikan model disimpan dalam format yang benar (misal: .h5 atau SavedModel) dan path sudah sesuai.\")\n",
        "\n",
        "# Mapping rekomendasi perawatan untuk setiap tipe rambut\n",
        "hair_care_recommendations = {\n",
        "    'curly': \"Rambut keriting membutuhkan hidrasi ekstra. Gunakan produk bebas sulfat, kondisioner yang kaya, dan rutin menggunakan masker rambut. Hindari menyisir rambut saat kering dan gunakan teknik 'plop' untuk mengeringkan.\",\n",
        "    'dreadlocks': \"Dreadlocks membutuhkan pembersihan rutin untuk menghindari penumpukan produk dan menjaga kebersatan. Gunakan sampo khusus dreadlocks dan pastikan untuk mengeringkan sepenuhnya untuk mencegah jamur. Minyak alami seperti tea tree oil dapat membantu menjaga kesehatan kulit kepala.\",\n",
        "    'kinky': \"Rambut kinky sangat kering dan rapuh. Fokus pada pelembapan intensif dengan leave-in conditioner, minyak alami (kelapa, shea butter), dan teknik 'LOC' (Liquid, Oil, Cream). Lindungi rambut di malam hari dengan satin bonnet atau sarung bantal sutra.\",\n",
        "    'Straight': \"Rambut lurus cenderung berminyak lebih cepat. Gunakan sampo yang membersihkan tanpa membuat kering dan kondisioner ringan. Hindari produk berlebihan yang bisa membuat rambut lepek. Keramas secara teratur dan sisir rambut dengan lembut.\",\n",
        "    'Wavy': \"Rambut bergelombang berada di antara lurus dan keriting. Gunakan produk yang ringan untuk menambah volume dan definisi tanpa membuat rambut berat. Scrunch rambut saat basah untuk membentuk gelombang dan biarkan kering secara alami atau gunakan diffuser.\"\n",
        "}\n",
        "\n",
        "def predict_hair_type(image_path_or_array):\n",
        "    \"\"\"\n",
        "    Melakukan prediksi tipe rambut dari gambar.\n",
        "    Menerima path gambar atau numpy array gambar (dari Gradio).\n",
        "    \"\"\"\n",
        "    if loaded_model is None:\n",
        "        return \"Model belum dimuat. Tidak dapat melakukan prediksi. Mohon periksa kembali path model Anda di Google Drive.\"\n",
        "\n",
        "    try:\n",
        "        if isinstance(image_path_or_array, str):\n",
        "            img = Image.open(image_path_or_array).convert('RGB')\n",
        "        else:\n",
        "            img = Image.fromarray(image_path_or_array).convert('RGB')\n",
        "\n",
        "        # Pra-pemrosesan gambar (resize dan normalisasi)\n",
        "        img = img.resize(image_size) # Menggunakan image_size yang benar\n",
        "        img_array = np.array(img) / 255.0\n",
        "        img_array = np.expand_dims(img_array, axis=0) # Tambahkan dimensi batch\n",
        "\n",
        "        # Melakukan prediksi menggunakan model yang dimuat\n",
        "        predictions = loaded_model.predict(img_array)[0]\n",
        "\n",
        "        # Mengurutkan hasil prediksi berdasarkan persentase tertinggi\n",
        "        sorted_predictions_indices = np.argsort(predictions)[::-1]\n",
        "\n",
        "        results = {}\n",
        "        for i in sorted_predictions_indices:\n",
        "            label = class_labels[i]\n",
        "            percentage = predictions[i] * 100\n",
        "            results[label] = percentage\n",
        "\n",
        "        # Menentukan tipe rambut dengan persentase tertinggi\n",
        "        predicted_class_index = np.argmax(predictions)\n",
        "        predicted_label = class_labels[predicted_class_index]\n",
        "\n",
        "        # Mendapatkan rekomendasi perawatan\n",
        "        recommendation = hair_care_recommendations.get(predicted_label, \"Tidak ada rekomendasi spesifik untuk tipe rambut ini.\")\n",
        "\n",
        "        # Memformat output untuk ditampilkan di Gradio (menggunakan Markdown)\n",
        "        output_string = \"### Hasil Analisis Tipe Rambut:\\n\\n\"\n",
        "        for label, percentage in results.items():\n",
        "            output_string += f\"- **{label.capitalize()}**: {percentage:.2f}%\\n\"\n",
        "\n",
        "        output_string += f\"\\n---\"\n",
        "        output_string += f\"\\n### Tipe Rambut Teridentifikasi: **{predicted_label}**\" # Menggunakan label asli tanpa capitalize\n",
        "        output_string += f\"\\n\\n### Rekomendasi Perawatan:\\n\"\n",
        "        output_string += recommendation\n",
        "\n",
        "        return output_string\n",
        "\n",
        "    except Exception as e:\n",
        "        return f\"Terjadi kesalahan saat memproses gambar atau melakukan prediksi: {e}\"\n",
        "\n",
        "\n",
        "# Membuat antarmuka Gradio\n",
        "if loaded_model is not None:\n",
        "    interface = gr.Interface(\n",
        "        fn=predict_hair_type,\n",
        "        inputs=gr.Image(type=\"numpy\", label=\"Unggah Gambar Rambut\"),\n",
        "        outputs=gr.Markdown(label=\"Hasil Prediksi dan Rekomendasi\"),\n",
        "        title=\"Klasifikasi Tipe Rambut dan Rekomendasi Perawatan\",\n",
        "        description=\"Unggah gambar rambut untuk mendapatkan prediksi tipe rambut (Curly, Dreadlocks, Kinky, Straight, Wavy) dan rekomendasi perawatan.\"\n",
        "    )\n",
        "\n",
        "    # Menjalankan antarmuka Gradio\n",
        "    interface.launch(share=True)\n",
        "else:\n",
        "    print(\"Model belum dimuat. Tidak dapat meluncurkan Gradio interface. Harap pastikan model Anda sudah diunggah ke Google Drive dan path-nya benar.\")"
      ]
    }
  ]
}